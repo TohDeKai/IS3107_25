{
 "cells": [
  {
   "cell_type": "code",
   "execution_count": 69,
   "metadata": {},
   "outputs": [],
   "source": [
    "import json\n",
    "import pandas as pd\n",
    "from processing import tokenization_tagging, stopwords_removal, simple_headline_cleaning\n",
    "from sklearn.model_selection import train_test_split, GridSearchCV\n",
    "from sklearn.feature_extraction.text import CountVectorizer\n",
    "from sklearn.naive_bayes import MultinomialNB\n",
    "import matplotlib.pyplot as plt\n",
    "from sklearn.metrics import accuracy_score, precision_score, recall_score, f1_score, confusion_matrix, ConfusionMatrixDisplay, confusion_matrix"
   ]
  },
  {
   "cell_type": "code",
   "execution_count": 4,
   "metadata": {},
   "outputs": [],
   "source": [
    "# Only relevant parts of the training dataset is the text and the rating so we will extract that\n",
    "\n",
    "review_dict = {\n",
    "    'reviewText' : [],\n",
    "    'rating' : []\n",
    "}\n",
    "\n",
    "with open(\"amazonBooks_small_10000_sentiments.json\", 'r') as review_json:\n",
    "    for review in review_json:\n",
    "        review_dict['reviewText'].append(json.loads(review)['reviewText'])\n",
    "        review_dict['rating'].append(json.loads(review)['overall'])\n",
    "\n",
    "sentiments = pd.DataFrame(review_dict)"
   ]
  },
  {
   "cell_type": "code",
   "execution_count": 5,
   "metadata": {},
   "outputs": [
    {
     "data": {
      "text/html": [
       "<div>\n",
       "<style scoped>\n",
       "    .dataframe tbody tr th:only-of-type {\n",
       "        vertical-align: middle;\n",
       "    }\n",
       "\n",
       "    .dataframe tbody tr th {\n",
       "        vertical-align: top;\n",
       "    }\n",
       "\n",
       "    .dataframe thead th {\n",
       "        text-align: right;\n",
       "    }\n",
       "</style>\n",
       "<table border=\"1\" class=\"dataframe\">\n",
       "  <thead>\n",
       "    <tr style=\"text-align: right;\">\n",
       "      <th></th>\n",
       "      <th>reviewText</th>\n",
       "      <th>rating</th>\n",
       "    </tr>\n",
       "  </thead>\n",
       "  <tbody>\n",
       "    <tr>\n",
       "      <th>0</th>\n",
       "      <td>I bought both boxed sets, books 1-5.  Really a...</td>\n",
       "      <td>5.0</td>\n",
       "    </tr>\n",
       "    <tr>\n",
       "      <th>1</th>\n",
       "      <td>I enjoyed this short book. But it was way way ...</td>\n",
       "      <td>3.0</td>\n",
       "    </tr>\n",
       "    <tr>\n",
       "      <th>2</th>\n",
       "      <td>I love Nicholas Sparks. I&amp;#8217;ve read everyt...</td>\n",
       "      <td>4.0</td>\n",
       "    </tr>\n",
       "    <tr>\n",
       "      <th>3</th>\n",
       "      <td>I really enjoyed this adventure and look forwa...</td>\n",
       "      <td>4.0</td>\n",
       "    </tr>\n",
       "    <tr>\n",
       "      <th>4</th>\n",
       "      <td>It was a decent read.. typical story line. Not...</td>\n",
       "      <td>3.0</td>\n",
       "    </tr>\n",
       "  </tbody>\n",
       "</table>\n",
       "</div>"
      ],
      "text/plain": [
       "                                          reviewText  rating\n",
       "0  I bought both boxed sets, books 1-5.  Really a...     5.0\n",
       "1  I enjoyed this short book. But it was way way ...     3.0\n",
       "2  I love Nicholas Sparks. I&#8217;ve read everyt...     4.0\n",
       "3  I really enjoyed this adventure and look forwa...     4.0\n",
       "4  It was a decent read.. typical story line. Not...     3.0"
      ]
     },
     "execution_count": 5,
     "metadata": {},
     "output_type": "execute_result"
    }
   ],
   "source": [
    "sentiments.head()"
   ]
  },
  {
   "cell_type": "code",
   "execution_count": 6,
   "metadata": {},
   "outputs": [
    {
     "data": {
      "text/html": [
       "<div>\n",
       "<style scoped>\n",
       "    .dataframe tbody tr th:only-of-type {\n",
       "        vertical-align: middle;\n",
       "    }\n",
       "\n",
       "    .dataframe tbody tr th {\n",
       "        vertical-align: top;\n",
       "    }\n",
       "\n",
       "    .dataframe thead th {\n",
       "        text-align: right;\n",
       "    }\n",
       "</style>\n",
       "<table border=\"1\" class=\"dataframe\">\n",
       "  <thead>\n",
       "    <tr style=\"text-align: right;\">\n",
       "      <th></th>\n",
       "      <th>reviewText</th>\n",
       "      <th>rating</th>\n",
       "      <th>reviewText_lemmatized</th>\n",
       "      <th>reviewText_cleaned</th>\n",
       "    </tr>\n",
       "  </thead>\n",
       "  <tbody>\n",
       "    <tr>\n",
       "      <th>8434</th>\n",
       "      <td>most recent effort by noyce is on par with his...</td>\n",
       "      <td>4.0</td>\n",
       "      <td>most recent effort by noyce be on par with his...</td>\n",
       "      <td>recent effort noyce par two previous work seri...</td>\n",
       "    </tr>\n",
       "    <tr>\n",
       "      <th>9538</th>\n",
       "      <td>i would recommend this book  a simple story ab...</td>\n",
       "      <td>5.0</td>\n",
       "      <td>i would recommend this book a simple story abo...</td>\n",
       "      <td>would recommend book simple story family love ...</td>\n",
       "    </tr>\n",
       "    <tr>\n",
       "      <th>8121</th>\n",
       "      <td>the last book in this series and i cried thru ...</td>\n",
       "      <td>5.0</td>\n",
       "      <td>the last book in this series and i cry thru th...</td>\n",
       "      <td>last book series cry thru first half love emil...</td>\n",
       "    </tr>\n",
       "    <tr>\n",
       "      <th>5274</th>\n",
       "      <td>deep informative thought provoking this book s...</td>\n",
       "      <td>5.0</td>\n",
       "      <td>deep informative thought provoke this book sho...</td>\n",
       "      <td>deep informative thought provoke book mandator...</td>\n",
       "    </tr>\n",
       "    <tr>\n",
       "      <th>2359</th>\n",
       "      <td>after reading the book about planes from the s...</td>\n",
       "      <td>5.0</td>\n",
       "      <td>after read the book about plane from the same ...</td>\n",
       "      <td>read book plane subject author decide get work...</td>\n",
       "    </tr>\n",
       "  </tbody>\n",
       "</table>\n",
       "</div>"
      ],
      "text/plain": [
       "                                             reviewText  rating  \\\n",
       "8434  most recent effort by noyce is on par with his...     4.0   \n",
       "9538  i would recommend this book  a simple story ab...     5.0   \n",
       "8121  the last book in this series and i cried thru ...     5.0   \n",
       "5274  deep informative thought provoking this book s...     5.0   \n",
       "2359  after reading the book about planes from the s...     5.0   \n",
       "\n",
       "                                  reviewText_lemmatized  \\\n",
       "8434  most recent effort by noyce be on par with his...   \n",
       "9538  i would recommend this book a simple story abo...   \n",
       "8121  the last book in this series and i cry thru th...   \n",
       "5274  deep informative thought provoke this book sho...   \n",
       "2359  after read the book about plane from the same ...   \n",
       "\n",
       "                                     reviewText_cleaned  \n",
       "8434  recent effort noyce par two previous work seri...  \n",
       "9538  would recommend book simple story family love ...  \n",
       "8121  last book series cry thru first half love emil...  \n",
       "5274  deep informative thought provoke book mandator...  \n",
       "2359  read book plane subject author decide get work...  "
      ]
     },
     "execution_count": 6,
     "metadata": {},
     "output_type": "execute_result"
    }
   ],
   "source": [
    "# Clean amazon reviewText\n",
    "sentiments['reviewText'] = sentiments['reviewText'].apply(simple_headline_cleaning)\n",
    "sentiments['reviewText_lemmatized'] = sentiments['reviewText'].apply(tokenization_tagging)\n",
    "sentiments['reviewText_cleaned'] = sentiments['reviewText_lemmatized'].apply(stopwords_removal)\n",
    "sentiments.sample(5)"
   ]
  },
  {
   "cell_type": "code",
   "execution_count": 99,
   "metadata": {},
   "outputs": [
    {
     "name": "stdout",
     "output_type": "stream",
     "text": [
      "Shape of X:  (10000, 1) Shape of y:  (10000,)\n"
     ]
    }
   ],
   "source": [
    "# Data for training classifier \n",
    "X = sentiments[['reviewText_cleaned']]\n",
    "y = sentiments['rating']\n",
    "print(\"Shape of X: \", X.shape, \"Shape of y: \", y.shape)"
   ]
  },
  {
   "cell_type": "code",
   "execution_count": 115,
   "metadata": {},
   "outputs": [
    {
     "name": "stdout",
     "output_type": "stream",
     "text": [
      "x_train (8000, 1) x_test (2000, 1) y_train (8000,) y_test (2000,)\n"
     ]
    }
   ],
   "source": [
    "#Train-Test Split for sentiment data\n",
    "x_train, x_test, y_train, y_test = train_test_split(X, y, random_state=99, test_size=0.2)\n",
    "print ('x_train',x_train.shape, 'x_test',x_test.shape, 'y_train',y_train.shape, 'y_test',y_test.shape)"
   ]
  },
  {
   "cell_type": "code",
   "execution_count": 116,
   "metadata": {},
   "outputs": [
    {
     "data": {
      "text/plain": [
       "MultinomialNB()"
      ]
     },
     "execution_count": 116,
     "metadata": {},
     "output_type": "execute_result"
    }
   ],
   "source": [
    "# Training the model\n",
    "vectorizer = CountVectorizer()\n",
    "matrix_train = vectorizer.fit_transform(x_train['reviewText_cleaned'])\n",
    "\n",
    "classifier = MultinomialNB()\n",
    "classifier.fit(matrix_train,y_train)"
   ]
  },
  {
   "cell_type": "code",
   "execution_count": 117,
   "metadata": {},
   "outputs": [
    {
     "name": "stdout",
     "output_type": "stream",
     "text": [
      "Best alpha: 1.0\n",
      "Cross-validation score: 0.60\n",
      "Test accuracy with best alpha: 0.59\n"
     ]
    }
   ],
   "source": [
    "# Define the parameter grid to search over\n",
    "param_grid = {'alpha': [0.1, 0.5, 1.0, 2.0, 5.0, 10.0]}\n",
    "\n",
    "# Train a Naive Bayes classifier using cross-validation to find the best value of alpha\n",
    "grid_search = GridSearchCV(classifier, param_grid, cv=5)\n",
    "grid_search.fit(matrix_train, y_train)\n",
    "\n",
    "# Print the best value of alpha and the corresponding cross-validation score\n",
    "print(f\"Best alpha: {grid_search.best_params_['alpha']}\")\n",
    "print(f\"Cross-validation score: {grid_search.best_score_:.2f}\")\n",
    "\n",
    "# Evaluate the best classifier on the test data\n",
    "clf_best = grid_search.best_estimator_\n",
    "x_test_vect = vectorizer.transform(x_test['reviewText_cleaned'])\n",
    "accuracy = clf_best.score(x_test_vect, y_test)\n",
    "print(f\"Test accuracy with best alpha: {accuracy:.2f}\")"
   ]
  },
  {
   "cell_type": "code",
   "execution_count": 118,
   "metadata": {},
   "outputs": [
    {
     "data": {
      "text/plain": [
       "MultinomialNB(alpha=2)"
      ]
     },
     "execution_count": 118,
     "metadata": {},
     "output_type": "execute_result"
    }
   ],
   "source": [
    "classifier = MultinomialNB(alpha=2)\n",
    "classifier.fit(matrix_train,y_train)"
   ]
  },
  {
   "cell_type": "code",
   "execution_count": 119,
   "metadata": {},
   "outputs": [
    {
     "name": "stdout",
     "output_type": "stream",
     "text": [
      "Accuracy: 0.58\n",
      "Precision: 0.50\n",
      "Recall: 0.58\n",
      "F1 score: 0.44\n"
     ]
    }
   ],
   "source": [
    "# Evaluating the model\n",
    "matrix_test = vectorizer.transform(x_test['reviewText_cleaned'])\n",
    "predicted_results = classifier.predict(matrix_test)\n",
    "\n",
    "# Calculate the evaluation metrics\n",
    "accuracy = accuracy_score(y_test, predicted_results)\n",
    "precision = precision_score(y_test, predicted_results, average='weighted', zero_division=0)\n",
    "recall = recall_score(y_test, predicted_results, average='weighted')\n",
    "f1 = f1_score(y_test, predicted_results, average='weighted')\n",
    "\n",
    "# Print the evaluation metrics\n",
    "print(f\"Accuracy: {accuracy:.2f}\")\n",
    "print(f\"Precision: {precision:.2f}\")\n",
    "print(f\"Recall: {recall:.2f}\")\n",
    "print(f\"F1 score: {f1:.2f}\")"
   ]
  },
  {
   "cell_type": "code",
   "execution_count": 120,
   "metadata": {},
   "outputs": [
    {
     "name": "stdout",
     "output_type": "stream",
     "text": [
      "[[   0    0    0    3   53]\n",
      " [   0    0    1    4   72]\n",
      " [   0    0    1    9  187]\n",
      " [   0    0    0   16  503]\n",
      " [   0    0    0    4 1147]]\n"
     ]
    },
    {
     "data": {
      "image/png": "[encoded data removed]",
      "text/plain": [
       "<Figure size 640x480 with 2 Axes>"
      ]
     },
     "metadata": {},
     "output_type": "display_data"
    }
   ],
   "source": [
    "# Calculate the confusion matrix\n",
    "cm = confusion_matrix(y_test, predicted_results)\n",
    "\n",
    "# Plot the confusion matrix\n",
    "disp = ConfusionMatrixDisplay.from_estimator(classifier, matrix_test, y_test,\n",
    "                                             cmap=plt.cm.Blues,\n",
    "                                             values_format='')\n",
    "disp.ax_.set_title('Confusion Matrix - Naive Bayes Classification')\n",
    "\n",
    "print(disp.confusion_matrix)\n",
    "\n",
    "plt.show()\n"
   ]
  },
  {
   "cell_type": "code",
   "execution_count": 123,
   "metadata": {},
   "outputs": [],
   "source": [
    "# Importing data\n",
    "def open_file(filepath, newfilename):\n",
    "    with open(filepath) as f:\n",
    "        return json.load(f)\n",
    "    \n"
   ]
  },
  {
   "cell_type": "code",
   "execution_count": 124,
   "metadata": {},
   "outputs": [
    {
     "data": {
      "text/plain": [
       "[{'title': '“Don’t wait to be approached”: IWD Spotlight with Mei Ye',\n",
       "  'url': 'https://kr-asia.com/dont-wait-to-be-approached-iwd-spotlight-with-mei-ye',\n",
       "  'description': 'The Head of Presales (APAC) at Provenir discusses the need for flexible working arrangements for both genders and taking the initiative to seek out a mentor.',\n",
       "  'date': '2023-03-24T03:01:13+00:00',\n",
       "  'category': 'Q&A',\n",
       "  'keywords': None,\n",
       "  'source': 'krasia'},\n",
       " {'title': 'Intelligence Indeed and Feiliu Tech named Asia Stars of the Alibaba Cloud x KrASIA Global Startup Accelerator Hangzhou Demo Day',\n",
       "  'url': 'https://kr-asia.com/intelligence-indeed-and-feiliu-tech-named-asia-stars-of-the-alibaba-cloud-x-krasia-global-startup-accelerator-hangzhou-demo-day',\n",
       "  'description': 'All the participating startups are Chinese companies that want to expand their business overseas.',\n",
       "  'date': '2023-03-24T08:13:23+00:00',\n",
       "  'category': 'Events',\n",
       "  'keywords': None,\n",
       "  'source': 'krasia'},\n",
       " {'title': 'The Importance of Recognition and Community: IWD Spotlight with Siah Soh Yun',\n",
       "  'url': 'https://kr-asia.com/the-importance-of-recognition-and-community-iwd-spotlight-with-siah-soh-yun',\n",
       "  'description': 'The Vice President of Technology Development at GlobalFoundries discusses the importance of recognizing individual achievements, prioritization, and helping our younger counterparts.',\n",
       "  'date': '2023-03-22T06:44:41+00:00',\n",
       "  'category': 'Q&A',\n",
       "  'keywords': None,\n",
       "  'source': 'krasia'},\n",
       " {'title': 'Diversity, Education, and Networking: IWD Spotlight with Rachel Chng',\n",
       "  'url': 'https://kr-asia.com/diversity-education-and-networking-iwd-spotlight-with-rachel-chng',\n",
       "  'description': 'The Head of Tribe Accelerator started out as a self-taught coder. Today, she leads a team that helps to fuel growth for startups utilizing blockchain technology to tackle real-world problems.',\n",
       "  'date': '2023-03-23T08:10:26+00:00',\n",
       "  'category': 'Q&A',\n",
       "  'keywords': None,\n",
       "  'source': 'krasia'},\n",
       " {'title': 'Indonesia’s GoTo 2022 loss widens to USD 2.6 billion',\n",
       "  'url': 'https://kr-asia.com/indonesias-goto-2022-loss-widens-to-usd-2-6-billion',\n",
       "  'description': 'Superapp operator shares now dwelling well below IPO price.',\n",
       "  'date': '2023-03-23T08:21:02+00:00',\n",
       "  'category': 'News',\n",
       "  'keywords': None,\n",
       "  'source': 'krasia'},\n",
       " {'title': 'The Uptake | Women in STEM, and robots too',\n",
       "  'url': 'https://kr-asia.com/the-uptake-women-in-stem-and-robots-too',\n",
       "  'description': \"Are robots the new bosses in Southeast Asia? Find out in this week's newsletter, along with insights from Siah Soh Yun from GlobalFoundries and Rachel Chng from Tribe Accelerator!\",\n",
       "  'date': '2023-03-24T10:00:04+00:00',\n",
       "  'category': 'Newsletters',\n",
       "  'keywords': None,\n",
       "  'source': 'krasia'},\n",
       " {'title': 'Startup Wire | Shadowboxing',\n",
       "  'url': 'https://kr-asia.com/startup-wire-shadowboxing',\n",
       "  'description': 'The latest startup briefs from across the Asia Pacific region.',\n",
       "  'date': '2023-03-25T05:00:05+00:00',\n",
       "  'category': 'Newsletters',\n",
       "  'keywords': None,\n",
       "  'source': 'krasia'},\n",
       " {'title': 'Robots at Work: Examining the Impact of a Fully Automated Workforce on Southeast Asia’s Economy',\n",
       "  'url': 'https://kr-asia.com/robots-at-work-examining-the-impact-of-a-fully-automated-workforce-on-southeast-asias-economy',\n",
       "  'description': \"The rise of machines threatens to disrupt the traditional workforce and upend the economy, leaving many wondering whether we're ready to adapt to this new reality.\",\n",
       "  'date': '2023-03-22T04:00:49+00:00',\n",
       "  'category': 'Insights',\n",
       "  'keywords': None,\n",
       "  'source': 'krasia'},\n",
       " {'title': 'Singapore’s GIC and Temasek join Stripe’s USD 6.5 billion fundraising',\n",
       "  'url': 'https://kr-asia.com/singapores-gic-and-temasek-join-stripes-usd-6-5-billion-fundraising',\n",
       "  'description': 'Payments giant looks to ASEAN for growth as valuation almost halves.',\n",
       "  'date': '2023-03-22T06:56:22+00:00',\n",
       "  'category': 'News',\n",
       "  'keywords': None,\n",
       "  'source': 'krasia'},\n",
       " {'title': 'MyyShop Makes Waves at SXSW with Social Commerce Empowerment Plans for Content Creators',\n",
       "  'url': 'https://kr-asia.com/myyshop-makes-waves-at-sxsw-with-social-commerce-empowerment-plans-for-content-creators',\n",
       "  'description': 'At the four-day event in Austin, Texas, the dropshipping platform took the opportunity to showcase its AI-powered capabilities for content creators to sell products.',\n",
       "  'date': '2023-03-21T07:20:58+00:00',\n",
       "  'category': 'News',\n",
       "  'keywords': None,\n",
       "  'source': 'krasia'}]"
      ]
     },
     "execution_count": 124,
     "metadata": {},
     "output_type": "execute_result"
    }
   ],
   "source": [
    "kr_asia"
   ]
  },
  {
   "cell_type": "code",
   "execution_count": null,
   "metadata": {},
   "outputs": [],
   "source": []
  }
 ],
 "metadata": {
  "kernelspec": {
   "display_name": "Python 3 (ipykernel)",
   "language": "python",
   "name": "python3"
  },
  "language_info": {
   "codemirror_mode": {
    "name": "ipython",
    "version": 3
   },
   "file_extension": ".py",
   "mimetype": "text/x-python",
   "name": "python",
   "nbconvert_exporter": "python",
   "pygments_lexer": "ipython3",
   "version": "3.9.13"
  }
 },
 "nbformat": 4,
 "nbformat_minor": 2
}
