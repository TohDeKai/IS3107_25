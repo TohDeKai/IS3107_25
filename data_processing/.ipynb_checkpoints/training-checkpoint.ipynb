{
 "cells": [
  {
   "cell_type": "code",
   "execution_count": 299,
   "metadata": {},
   "outputs": [],
   "source": [
    "import json\n",
    "import pandas as pd\n",
    "from processing import tokenization_tagging, stopwords_removal, simple_headline_cleaning\n",
    "from sklearn.model_selection import train_test_split, GridSearchCV\n",
    "from sklearn.feature_extraction.text import CountVectorizer\n",
    "from sklearn.naive_bayes import MultinomialNB\n",
    "import matplotlib.pyplot as plt\n",
    "from matplotlib.dates import DateFormatter\n",
    "import nltk\n",
    "import numpy as np\n",
    "import spacy\n",
    "from sklearn.metrics import accuracy_score, precision_score, recall_score, f1_score, confusion_matrix, ConfusionMatrixDisplay, confusion_matrix"
   ]
  },
  {
   "cell_type": "code",
   "execution_count": 283,
   "metadata": {},
   "outputs": [],
   "source": [
    "# Only relevant parts of the training dataset is the text and the rating so we will extract that\n",
    "\n",
    "review_dict = {\n",
    "    'reviewText' : [],\n",
    "    'rating' : []\n",
    "}\n",
    "\n",
    "with open(\"amazonBooks_small_10000_sentiments.json\", 'r') as review_json:\n",
    "    for review in review_json:\n",
    "        review_dict['reviewText'].append(json.loads(review)['reviewText'])\n",
    "        review_dict['rating'].append(json.loads(review)['overall'])\n",
    "\n",
    "sentiments = pd.DataFrame(review_dict)"
   ]
  },
  {
   "cell_type": "code",
   "execution_count": 284,
   "metadata": {},
   "outputs": [
    {
     "data": {
      "text/html": [
       "<div>\n",
       "<style scoped>\n",
       "    .dataframe tbody tr th:only-of-type {\n",
       "        vertical-align: middle;\n",
       "    }\n",
       "\n",
       "    .dataframe tbody tr th {\n",
       "        vertical-align: top;\n",
       "    }\n",
       "\n",
       "    .dataframe thead th {\n",
       "        text-align: right;\n",
       "    }\n",
       "</style>\n",
       "<table border=\"1\" class=\"dataframe\">\n",
       "  <thead>\n",
       "    <tr style=\"text-align: right;\">\n",
       "      <th></th>\n",
       "      <th>reviewText</th>\n",
       "      <th>rating</th>\n",
       "    </tr>\n",
       "  </thead>\n",
       "  <tbody>\n",
       "    <tr>\n",
       "      <th>0</th>\n",
       "      <td>I bought both boxed sets, books 1-5.  Really a...</td>\n",
       "      <td>5.0</td>\n",
       "    </tr>\n",
       "    <tr>\n",
       "      <th>1</th>\n",
       "      <td>I enjoyed this short book. But it was way way ...</td>\n",
       "      <td>3.0</td>\n",
       "    </tr>\n",
       "    <tr>\n",
       "      <th>2</th>\n",
       "      <td>I love Nicholas Sparks. I&amp;#8217;ve read everyt...</td>\n",
       "      <td>4.0</td>\n",
       "    </tr>\n",
       "    <tr>\n",
       "      <th>3</th>\n",
       "      <td>I really enjoyed this adventure and look forwa...</td>\n",
       "      <td>4.0</td>\n",
       "    </tr>\n",
       "    <tr>\n",
       "      <th>4</th>\n",
       "      <td>It was a decent read.. typical story line. Not...</td>\n",
       "      <td>3.0</td>\n",
       "    </tr>\n",
       "  </tbody>\n",
       "</table>\n",
       "</div>"
      ],
      "text/plain": [
       "                                          reviewText  rating\n",
       "0  I bought both boxed sets, books 1-5.  Really a...     5.0\n",
       "1  I enjoyed this short book. But it was way way ...     3.0\n",
       "2  I love Nicholas Sparks. I&#8217;ve read everyt...     4.0\n",
       "3  I really enjoyed this adventure and look forwa...     4.0\n",
       "4  It was a decent read.. typical story line. Not...     3.0"
      ]
     },
     "execution_count": 284,
     "metadata": {},
     "output_type": "execute_result"
    }
   ],
   "source": [
    "sentiments.head()"
   ]
  },
  {
   "cell_type": "code",
   "execution_count": 285,
   "metadata": {},
   "outputs": [
    {
     "data": {
      "text/html": [
       "<div>\n",
       "<style scoped>\n",
       "    .dataframe tbody tr th:only-of-type {\n",
       "        vertical-align: middle;\n",
       "    }\n",
       "\n",
       "    .dataframe tbody tr th {\n",
       "        vertical-align: top;\n",
       "    }\n",
       "\n",
       "    .dataframe thead th {\n",
       "        text-align: right;\n",
       "    }\n",
       "</style>\n",
       "<table border=\"1\" class=\"dataframe\">\n",
       "  <thead>\n",
       "    <tr style=\"text-align: right;\">\n",
       "      <th></th>\n",
       "      <th>reviewText</th>\n",
       "      <th>rating</th>\n",
       "      <th>reviewText_lemmatized</th>\n",
       "      <th>reviewText_cleaned</th>\n",
       "    </tr>\n",
       "  </thead>\n",
       "  <tbody>\n",
       "    <tr>\n",
       "      <th>4884</th>\n",
       "      <td>the story line was great and the characters me...</td>\n",
       "      <td>4.0</td>\n",
       "      <td>the story line be great and the character memo...</td>\n",
       "      <td>story line great character memorable badly nee...</td>\n",
       "    </tr>\n",
       "    <tr>\n",
       "      <th>761</th>\n",
       "      <td>a time long gone sadly inspiring tale of gentl...</td>\n",
       "      <td>5.0</td>\n",
       "      <td>a time long go sadly inspire tale of gentle di...</td>\n",
       "      <td>time long go sadly inspire tale gentle discove...</td>\n",
       "    </tr>\n",
       "    <tr>\n",
       "      <th>3347</th>\n",
       "      <td>as others have implied here this book is profo...</td>\n",
       "      <td>1.0</td>\n",
       "      <td>as others have imply here this book be profoun...</td>\n",
       "      <td>others imply book profoundly wrong countless w...</td>\n",
       "    </tr>\n",
       "    <tr>\n",
       "      <th>9095</th>\n",
       "      <td>interesting premise  reminded me a bit of the ...</td>\n",
       "      <td>4.0</td>\n",
       "      <td>interest premise remind me a bit of the chroni...</td>\n",
       "      <td>interest premise remind bit chronicle narnia d...</td>\n",
       "    </tr>\n",
       "    <tr>\n",
       "      <th>3393</th>\n",
       "      <td>i both liked and disliked this book  its heavi...</td>\n",
       "      <td>4.0</td>\n",
       "      <td>i both liked and dislike this book its heavier...</td>\n",
       "      <td>liked dislike book heavier expect overarching ...</td>\n",
       "    </tr>\n",
       "  </tbody>\n",
       "</table>\n",
       "</div>"
      ],
      "text/plain": [
       "                                             reviewText  rating  \\\n",
       "4884  the story line was great and the characters me...     4.0   \n",
       "761   a time long gone sadly inspiring tale of gentl...     5.0   \n",
       "3347  as others have implied here this book is profo...     1.0   \n",
       "9095  interesting premise  reminded me a bit of the ...     4.0   \n",
       "3393  i both liked and disliked this book  its heavi...     4.0   \n",
       "\n",
       "                                  reviewText_lemmatized  \\\n",
       "4884  the story line be great and the character memo...   \n",
       "761   a time long go sadly inspire tale of gentle di...   \n",
       "3347  as others have imply here this book be profoun...   \n",
       "9095  interest premise remind me a bit of the chroni...   \n",
       "3393  i both liked and dislike this book its heavier...   \n",
       "\n",
       "                                     reviewText_cleaned  \n",
       "4884  story line great character memorable badly nee...  \n",
       "761   time long go sadly inspire tale gentle discove...  \n",
       "3347  others imply book profoundly wrong countless w...  \n",
       "9095  interest premise remind bit chronicle narnia d...  \n",
       "3393  liked dislike book heavier expect overarching ...  "
      ]
     },
     "execution_count": 285,
     "metadata": {},
     "output_type": "execute_result"
    }
   ],
   "source": [
    "# Clean amazon reviewText\n",
    "sentiments['reviewText'] = sentiments['reviewText'].apply(simple_headline_cleaning)\n",
    "sentiments['reviewText_lemmatized'] = sentiments['reviewText'].apply(tokenization_tagging)\n",
    "sentiments['reviewText_cleaned'] = sentiments['reviewText_lemmatized'].apply(stopwords_removal)\n",
    "sentiments.sample(5)"
   ]
  },
  {
   "cell_type": "code",
   "execution_count": 286,
   "metadata": {},
   "outputs": [
    {
     "name": "stdout",
     "output_type": "stream",
     "text": [
      "Shape of X:  (10000, 1) Shape of y:  (10000,)\n"
     ]
    }
   ],
   "source": [
    "# Data for training classifier \n",
    "X = sentiments[['reviewText_cleaned']]\n",
    "y = sentiments['rating']\n",
    "print(\"Shape of X: \", X.shape, \"Shape of y: \", y.shape)"
   ]
  },
  {
   "cell_type": "code",
   "execution_count": 287,
   "metadata": {},
   "outputs": [
    {
     "name": "stdout",
     "output_type": "stream",
     "text": [
      "x_train (8000, 1) x_test (2000, 1) y_train (8000,) y_test (2000,)\n"
     ]
    }
   ],
   "source": [
    "#Train-Test Split for sentiment data\n",
    "x_train, x_test, y_train, y_test = train_test_split(X, y, random_state=99, test_size=0.2)\n",
    "print ('x_train',x_train.shape, 'x_test',x_test.shape, 'y_train',y_train.shape, 'y_test',y_test.shape)"
   ]
  },
  {
   "cell_type": "code",
   "execution_count": 288,
   "metadata": {},
   "outputs": [
    {
     "data": {
      "text/plain": [
       "MultinomialNB()"
      ]
     },
     "execution_count": 288,
     "metadata": {},
     "output_type": "execute_result"
    }
   ],
   "source": [
    "# Training the model\n",
    "vectorizer = CountVectorizer()\n",
    "matrix_train = vectorizer.fit_transform(x_train['reviewText_cleaned'])\n",
    "\n",
    "classifier = MultinomialNB()\n",
    "classifier.fit(matrix_train,y_train)"
   ]
  },
  {
   "cell_type": "code",
   "execution_count": 289,
   "metadata": {},
   "outputs": [
    {
     "name": "stdout",
     "output_type": "stream",
     "text": [
      "Best alpha: 0.9548823692395637\n",
      "Cross-validation score: 0.60\n",
      "Test accuracy with best alpha: 0.59\n"
     ]
    }
   ],
   "source": [
    "# Define the parameter grid to search over\n",
    "param_grid = {'alpha': np.logspace(-10, 1, 400)}\n",
    "\n",
    "\n",
    "# Train a Naive Bayes classifier using cross-validation to find the best value of alpha\n",
    "grid_search = GridSearchCV(classifier, param_grid, cv=5)\n",
    "grid_search.fit(matrix_train, y_train)\n",
    "\n",
    "# Print the best value of alpha and the corresponding cross-validation score\n",
    "print(f\"Best alpha: {grid_search.best_params_['alpha']}\")\n",
    "print(f\"Cross-validation score: {grid_search.best_score_:.2f}\")\n",
    "\n",
    "# Evaluate the best classifier on the test data\n",
    "clf_best = grid_search.best_estimator_\n",
    "x_test_vect = vectorizer.transform(x_test['reviewText_cleaned'])\n",
    "accuracy = clf_best.score(x_test_vect, y_test)\n",
    "print(f\"Test accuracy with best alpha: {accuracy:.2f}\")"
   ]
  },
  {
   "cell_type": "code",
   "execution_count": 290,
   "metadata": {},
   "outputs": [
    {
     "data": {
      "text/plain": [
       "MultinomialNB(alpha=0.9548823692395637)"
      ]
     },
     "execution_count": 290,
     "metadata": {},
     "output_type": "execute_result"
    }
   ],
   "source": [
    "classifier = MultinomialNB(alpha=grid_search.best_params_['alpha'])\n",
    "classifier.fit(matrix_train,y_train)"
   ]
  },
  {
   "cell_type": "code",
   "execution_count": 291,
   "metadata": {},
   "outputs": [
    {
     "name": "stdout",
     "output_type": "stream",
     "text": [
      "Accuracy: 0.59\n",
      "Precision: 0.45\n",
      "Recall: 0.59\n",
      "F1 score: 0.48\n"
     ]
    }
   ],
   "source": [
    "# Evaluating the model\n",
    "matrix_test = vectorizer.transform(x_test['reviewText_cleaned'])\n",
    "predicted_results = classifier.predict(matrix_test)\n",
    "\n",
    "# Calculate the evaluation metrics\n",
    "accuracy = accuracy_score(y_test, predicted_results)\n",
    "precision = precision_score(y_test, predicted_results, average='weighted', zero_division=0)\n",
    "recall = recall_score(y_test, predicted_results, average='weighted')\n",
    "f1 = f1_score(y_test, predicted_results, average='weighted')\n",
    "\n",
    "# Print the evaluation metrics\n",
    "print(f\"Accuracy: {accuracy:.2f}\")\n",
    "print(f\"Precision: {precision:.2f}\")\n",
    "print(f\"Recall: {recall:.2f}\")\n",
    "print(f\"F1 score: {f1:.2f}\")"
   ]
  },
  {
   "cell_type": "code",
   "execution_count": 292,
   "metadata": {},
   "outputs": [
    {
     "name": "stdout",
     "output_type": "stream",
     "text": [
      "[[   0    0    2    8   46]\n",
      " [   0    0    4   16   57]\n",
      " [   0    0    1   50  146]\n",
      " [   0    0    2   57  460]\n",
      " [   0    0    0   32 1119]]\n"
     ]
    },
    {
     "data": {
      "image/png": "[encoded data removed]",
      "text/plain": [
       "<Figure size 640x480 with 2 Axes>"
      ]
     },
     "metadata": {},
     "output_type": "display_data"
    }
   ],
   "source": [
    "# Calculate the confusion matrix\n",
    "cm = confusion_matrix(y_test, predicted_results)\n",
    "\n",
    "# Plot the confusion matrix\n",
    "disp = ConfusionMatrixDisplay.from_estimator(classifier, matrix_test, y_test,\n",
    "                                             cmap=plt.cm.Blues,\n",
    "                                             values_format='')\n",
    "disp.ax_.set_title('Confusion Matrix - Naive Bayes Classification')\n",
    "\n",
    "print(disp.confusion_matrix)\n",
    "\n",
    "plt.show()\n"
   ]
  },
  {
   "cell_type": "code",
   "execution_count": 293,
   "metadata": {},
   "outputs": [],
   "source": [
    "# Importing data\n",
    "def open_file(filepath):\n",
    "    with open(filepath) as f:\n",
    "        return json.load(f)\n",
    "    \n"
   ]
  },
  {
   "cell_type": "code",
   "execution_count": 294,
   "metadata": {},
   "outputs": [],
   "source": [
    "kr_asia = open_file(\"../data_collection/exports/krasia.json\")\n",
    "today = open_file(\"../data_collection/exports/today.json\")\n",
    "cna = open_file(\"../data_collection/exports/cna.json\")"
   ]
  },
  {
   "cell_type": "code",
   "execution_count": 295,
   "metadata": {},
   "outputs": [
    {
     "data": {
      "text/html": [
       "<div>\n",
       "<style scoped>\n",
       "    .dataframe tbody tr th:only-of-type {\n",
       "        vertical-align: middle;\n",
       "    }\n",
       "\n",
       "    .dataframe tbody tr th {\n",
       "        vertical-align: top;\n",
       "    }\n",
       "\n",
       "    .dataframe thead th {\n",
       "        text-align: right;\n",
       "    }\n",
       "</style>\n",
       "<table border=\"1\" class=\"dataframe\">\n",
       "  <thead>\n",
       "    <tr style=\"text-align: right;\">\n",
       "      <th></th>\n",
       "      <th>title</th>\n",
       "      <th>url</th>\n",
       "      <th>description</th>\n",
       "      <th>date</th>\n",
       "      <th>category</th>\n",
       "      <th>keywords</th>\n",
       "      <th>source</th>\n",
       "    </tr>\n",
       "  </thead>\n",
       "  <tbody>\n",
       "    <tr>\n",
       "      <th>0</th>\n",
       "      <td>“Don’t wait to be approached”: IWD Spotlight w...</td>\n",
       "      <td>https://kr-asia.com/dont-wait-to-be-approached...</td>\n",
       "      <td>The Head of Presales (APAC) at Provenir discus...</td>\n",
       "      <td>2023-03-24T03:01:13+00:00</td>\n",
       "      <td>Q&amp;A</td>\n",
       "      <td>None</td>\n",
       "      <td>krasia</td>\n",
       "    </tr>\n",
       "    <tr>\n",
       "      <th>1</th>\n",
       "      <td>Intelligence Indeed and Feiliu Tech named Asia...</td>\n",
       "      <td>https://kr-asia.com/intelligence-indeed-and-fe...</td>\n",
       "      <td>All the participating startups are Chinese com...</td>\n",
       "      <td>2023-03-24T08:13:23+00:00</td>\n",
       "      <td>Events</td>\n",
       "      <td>None</td>\n",
       "      <td>krasia</td>\n",
       "    </tr>\n",
       "    <tr>\n",
       "      <th>2</th>\n",
       "      <td>The Importance of Recognition and Community: I...</td>\n",
       "      <td>https://kr-asia.com/the-importance-of-recognit...</td>\n",
       "      <td>The Vice President of Technology Development a...</td>\n",
       "      <td>2023-03-22T06:44:41+00:00</td>\n",
       "      <td>Q&amp;A</td>\n",
       "      <td>None</td>\n",
       "      <td>krasia</td>\n",
       "    </tr>\n",
       "    <tr>\n",
       "      <th>3</th>\n",
       "      <td>Diversity, Education, and Networking: IWD Spot...</td>\n",
       "      <td>https://kr-asia.com/diversity-education-and-ne...</td>\n",
       "      <td>The Head of Tribe Accelerator started out as a...</td>\n",
       "      <td>2023-03-23T08:10:26+00:00</td>\n",
       "      <td>Q&amp;A</td>\n",
       "      <td>None</td>\n",
       "      <td>krasia</td>\n",
       "    </tr>\n",
       "    <tr>\n",
       "      <th>4</th>\n",
       "      <td>Indonesia’s GoTo 2022 loss widens to USD 2.6 b...</td>\n",
       "      <td>https://kr-asia.com/indonesias-goto-2022-loss-...</td>\n",
       "      <td>Superapp operator shares now dwelling well bel...</td>\n",
       "      <td>2023-03-23T08:21:02+00:00</td>\n",
       "      <td>News</td>\n",
       "      <td>None</td>\n",
       "      <td>krasia</td>\n",
       "    </tr>\n",
       "  </tbody>\n",
       "</table>\n",
       "</div>"
      ],
      "text/plain": [
       "                                               title  \\\n",
       "0  “Don’t wait to be approached”: IWD Spotlight w...   \n",
       "1  Intelligence Indeed and Feiliu Tech named Asia...   \n",
       "2  The Importance of Recognition and Community: I...   \n",
       "3  Diversity, Education, and Networking: IWD Spot...   \n",
       "4  Indonesia’s GoTo 2022 loss widens to USD 2.6 b...   \n",
       "\n",
       "                                                 url  \\\n",
       "0  https://kr-asia.com/dont-wait-to-be-approached...   \n",
       "1  https://kr-asia.com/intelligence-indeed-and-fe...   \n",
       "2  https://kr-asia.com/the-importance-of-recognit...   \n",
       "3  https://kr-asia.com/diversity-education-and-ne...   \n",
       "4  https://kr-asia.com/indonesias-goto-2022-loss-...   \n",
       "\n",
       "                                         description  \\\n",
       "0  The Head of Presales (APAC) at Provenir discus...   \n",
       "1  All the participating startups are Chinese com...   \n",
       "2  The Vice President of Technology Development a...   \n",
       "3  The Head of Tribe Accelerator started out as a...   \n",
       "4  Superapp operator shares now dwelling well bel...   \n",
       "\n",
       "                        date category keywords  source  \n",
       "0  2023-03-24T03:01:13+00:00      Q&A     None  krasia  \n",
       "1  2023-03-24T08:13:23+00:00   Events     None  krasia  \n",
       "2  2023-03-22T06:44:41+00:00      Q&A     None  krasia  \n",
       "3  2023-03-23T08:10:26+00:00      Q&A     None  krasia  \n",
       "4  2023-03-23T08:21:02+00:00     News     None  krasia  "
      ]
     },
     "execution_count": 295,
     "metadata": {},
     "output_type": "execute_result"
    }
   ],
   "source": [
    "news = pd.concat([pd.DataFrame(kr_asia), pd.DataFrame(today), pd.DataFrame(cna)])\n",
    "news.head()"
   ]
  },
  {
   "cell_type": "code",
   "execution_count": 296,
   "metadata": {},
   "outputs": [
    {
     "data": {
      "text/html": [
       "<div>\n",
       "<style scoped>\n",
       "    .dataframe tbody tr th:only-of-type {\n",
       "        vertical-align: middle;\n",
       "    }\n",
       "\n",
       "    .dataframe tbody tr th {\n",
       "        vertical-align: top;\n",
       "    }\n",
       "\n",
       "    .dataframe thead th {\n",
       "        text-align: right;\n",
       "    }\n",
       "</style>\n",
       "<table border=\"1\" class=\"dataframe\">\n",
       "  <thead>\n",
       "    <tr style=\"text-align: right;\">\n",
       "      <th></th>\n",
       "      <th>title</th>\n",
       "      <th>url</th>\n",
       "      <th>description</th>\n",
       "      <th>date</th>\n",
       "      <th>category</th>\n",
       "      <th>keywords</th>\n",
       "      <th>source</th>\n",
       "      <th>title_lemmatized</th>\n",
       "      <th>title_cleaned</th>\n",
       "    </tr>\n",
       "  </thead>\n",
       "  <tbody>\n",
       "    <tr>\n",
       "      <th>3</th>\n",
       "      <td>mahathir claims malays lost everything after h...</td>\n",
       "      <td>https://www.todayonline.com//world/mahathir-cl...</td>\n",
       "      <td>KUALA LUMPUR — Former two-time Malaysian prime...</td>\n",
       "      <td>2023-03-27 22:11:56</td>\n",
       "      <td></td>\n",
       "      <td>[Malaysia, Mahathir Mohamad]</td>\n",
       "      <td>today</td>\n",
       "      <td>mahathir claim malays lose everything after he...</td>\n",
       "      <td>mahathir claim malays lose everything resign pm</td>\n",
       "    </tr>\n",
       "    <tr>\n",
       "      <th>2</th>\n",
       "      <td>malaysia to review 39 billion settlement deal ...</td>\n",
       "      <td>https://www.channelnewsasia.com/business/malay...</td>\n",
       "      <td>KUALA LUMPUR : The Malaysian government is re-...</td>\n",
       "      <td>2023-04-17T18:23:37+08:00</td>\n",
       "      <td>www.channelnewsasia.com</td>\n",
       "      <td>None</td>\n",
       "      <td>cna</td>\n",
       "      <td>malaysia to review 39 billion settlement deal ...</td>\n",
       "      <td>malaysia review 39 billion settlement deal gol...</td>\n",
       "    </tr>\n",
       "    <tr>\n",
       "      <th>19</th>\n",
       "      <td>helping smes to continuously develop their tal...</td>\n",
       "      <td>https://www.todayonline.com//brand-spotlight/h...</td>\n",
       "      <td>Jason Marine Group’s partnership with NTUC Lea...</td>\n",
       "      <td>2023-03-27 22:11:57</td>\n",
       "      <td></td>\n",
       "      <td>[NTUC LearningHub, Learning, digital skills, l...</td>\n",
       "      <td>today</td>\n",
       "      <td>help smes to continuously develop their talent...</td>\n",
       "      <td>help smes continuously develop talent learning...</td>\n",
       "    </tr>\n",
       "    <tr>\n",
       "      <th>14</th>\n",
       "      <td>vietnamese housewife who took over hubbys stal...</td>\n",
       "      <td>https://www.todayonline.com//8days/vietnamese-...</td>\n",
       "      <td>The homemaker was forced to take over Hai Kee ...</td>\n",
       "      <td>2023-03-27 22:11:57</td>\n",
       "      <td></td>\n",
       "      <td>[Hai Kee fish soup, hai kee seafood, fish soup...</td>\n",
       "      <td>today</td>\n",
       "      <td>vietnamese housewife who take over hubbys stal...</td>\n",
       "      <td>vietnamese housewife take hubbys stall support...</td>\n",
       "    </tr>\n",
       "    <tr>\n",
       "      <th>9</th>\n",
       "      <td>apple ceo cook to meet indian pm modi amid exp...</td>\n",
       "      <td>https://www.channelnewsasia.com/business/apple...</td>\n",
       "      <td>NEW DELHI : Apple Chief Executive Tim Cook wil...</td>\n",
       "      <td>2023-04-17T19:35:43+08:00</td>\n",
       "      <td>www.channelnewsasia.com</td>\n",
       "      <td>None</td>\n",
       "      <td>cna</td>\n",
       "      <td>apple ceo cook to meet indian pm modi amid exp...</td>\n",
       "      <td>apple ceo cook meet indian pm modi amid expans...</td>\n",
       "    </tr>\n",
       "  </tbody>\n",
       "</table>\n",
       "</div>"
      ],
      "text/plain": [
       "                                                title  \\\n",
       "3   mahathir claims malays lost everything after h...   \n",
       "2   malaysia to review 39 billion settlement deal ...   \n",
       "19  helping smes to continuously develop their tal...   \n",
       "14  vietnamese housewife who took over hubbys stal...   \n",
       "9   apple ceo cook to meet indian pm modi amid exp...   \n",
       "\n",
       "                                                  url  \\\n",
       "3   https://www.todayonline.com//world/mahathir-cl...   \n",
       "2   https://www.channelnewsasia.com/business/malay...   \n",
       "19  https://www.todayonline.com//brand-spotlight/h...   \n",
       "14  https://www.todayonline.com//8days/vietnamese-...   \n",
       "9   https://www.channelnewsasia.com/business/apple...   \n",
       "\n",
       "                                          description  \\\n",
       "3   KUALA LUMPUR — Former two-time Malaysian prime...   \n",
       "2   KUALA LUMPUR : The Malaysian government is re-...   \n",
       "19  Jason Marine Group’s partnership with NTUC Lea...   \n",
       "14  The homemaker was forced to take over Hai Kee ...   \n",
       "9   NEW DELHI : Apple Chief Executive Tim Cook wil...   \n",
       "\n",
       "                         date                 category  \\\n",
       "3         2023-03-27 22:11:56                            \n",
       "2   2023-04-17T18:23:37+08:00  www.channelnewsasia.com   \n",
       "19        2023-03-27 22:11:57                            \n",
       "14        2023-03-27 22:11:57                            \n",
       "9   2023-04-17T19:35:43+08:00  www.channelnewsasia.com   \n",
       "\n",
       "                                             keywords source  \\\n",
       "3                        [Malaysia, Mahathir Mohamad]  today   \n",
       "2                                                None    cna   \n",
       "19  [NTUC LearningHub, Learning, digital skills, l...  today   \n",
       "14  [Hai Kee fish soup, hai kee seafood, fish soup...  today   \n",
       "9                                                None    cna   \n",
       "\n",
       "                                     title_lemmatized  \\\n",
       "3   mahathir claim malays lose everything after he...   \n",
       "2   malaysia to review 39 billion settlement deal ...   \n",
       "19  help smes to continuously develop their talent...   \n",
       "14  vietnamese housewife who take over hubbys stal...   \n",
       "9   apple ceo cook to meet indian pm modi amid exp...   \n",
       "\n",
       "                                        title_cleaned  \n",
       "3     mahathir claim malays lose everything resign pm  \n",
       "2   malaysia review 39 billion settlement deal gol...  \n",
       "19  help smes continuously develop talent learning...  \n",
       "14  vietnamese housewife take hubbys stall support...  \n",
       "9   apple ceo cook meet indian pm modi amid expans...  "
      ]
     },
     "execution_count": 296,
     "metadata": {},
     "output_type": "execute_result"
    }
   ],
   "source": [
    "## Pre-process titles\n",
    "news['title'] = news['title'].apply(simple_headline_cleaning)\n",
    "news['title_lemmatized'] = news['title'].apply(tokenization_tagging)\n",
    "news['title_cleaned'] = news['title_lemmatized'].apply(stopwords_removal)\n",
    "news.sample(5)"
   ]
  },
  {
   "cell_type": "code",
   "execution_count": 302,
   "metadata": {},
   "outputs": [],
   "source": [
    "def word_count(string):\n",
    "    string = string.split(' ')\n",
    "    return len(string)\n",
    "\n",
    "def named_entities_extraction(text):\n",
    "    nlp = spacy.load(\"en_core_web_sm\")\n",
    "\n",
    "    # Process the input text with spaCy\n",
    "    doc = nlp(text)\n",
    "\n",
    "    # Extract named entities from the document\n",
    "    entities = [(ent.text, ent.label_) for ent in doc.ents]\n",
    "\n",
    "    return entities"
   ]
  },
  {
   "cell_type": "code",
   "execution_count": 303,
   "metadata": {},
   "outputs": [],
   "source": [
    "news['headline_word_count'] = news['title'].apply(word_count)\n",
    "news['named_entities'] = news['title'].apply(named_entities_extraction)"
   ]
  },
  {
   "cell_type": "code",
   "execution_count": 305,
   "metadata": {},
   "outputs": [
    {
     "data": {
      "text/html": [
       "<div>\n",
       "<style scoped>\n",
       "    .dataframe tbody tr th:only-of-type {\n",
       "        vertical-align: middle;\n",
       "    }\n",
       "\n",
       "    .dataframe tbody tr th {\n",
       "        vertical-align: top;\n",
       "    }\n",
       "\n",
       "    .dataframe thead th {\n",
       "        text-align: right;\n",
       "    }\n",
       "</style>\n",
       "<table border=\"1\" class=\"dataframe\">\n",
       "  <thead>\n",
       "    <tr style=\"text-align: right;\">\n",
       "      <th></th>\n",
       "      <th>title</th>\n",
       "      <th>url</th>\n",
       "      <th>description</th>\n",
       "      <th>date</th>\n",
       "      <th>category</th>\n",
       "      <th>keywords</th>\n",
       "      <th>source</th>\n",
       "      <th>title_lemmatized</th>\n",
       "      <th>title_cleaned</th>\n",
       "      <th>headline_word_count</th>\n",
       "      <th>named_entities</th>\n",
       "    </tr>\n",
       "  </thead>\n",
       "  <tbody>\n",
       "    <tr>\n",
       "      <th>0</th>\n",
       "      <td>dont wait to be approached iwd spotlight with ...</td>\n",
       "      <td>https://kr-asia.com/dont-wait-to-be-approached...</td>\n",
       "      <td>The Head of Presales (APAC) at Provenir discus...</td>\n",
       "      <td>2023-03-24T03:01:13+00:00</td>\n",
       "      <td>Q&amp;A</td>\n",
       "      <td>None</td>\n",
       "      <td>krasia</td>\n",
       "      <td>dont wait to be approach iwd spotlight with me...</td>\n",
       "      <td>dont wait approach iwd spotlight mei ye</td>\n",
       "      <td>10</td>\n",
       "      <td>[(mei, ORG)]</td>\n",
       "    </tr>\n",
       "    <tr>\n",
       "      <th>1</th>\n",
       "      <td>intelligence indeed and feiliu tech named asia...</td>\n",
       "      <td>https://kr-asia.com/intelligence-indeed-and-fe...</td>\n",
       "      <td>All the participating startups are Chinese com...</td>\n",
       "      <td>2023-03-24T08:13:23+00:00</td>\n",
       "      <td>Events</td>\n",
       "      <td>None</td>\n",
       "      <td>krasia</td>\n",
       "      <td>intelligence indeed and feiliu tech name asia ...</td>\n",
       "      <td>intelligence indeed feiliu tech name asia star...</td>\n",
       "      <td>20</td>\n",
       "      <td>[(asia, LOC), (hangzhou, GPE)]</td>\n",
       "    </tr>\n",
       "    <tr>\n",
       "      <th>2</th>\n",
       "      <td>the importance of recognition and community iw...</td>\n",
       "      <td>https://kr-asia.com/the-importance-of-recognit...</td>\n",
       "      <td>The Vice President of Technology Development a...</td>\n",
       "      <td>2023-03-22T06:44:41+00:00</td>\n",
       "      <td>Q&amp;A</td>\n",
       "      <td>None</td>\n",
       "      <td>krasia</td>\n",
       "      <td>the importance of recognition and community iw...</td>\n",
       "      <td>importance recognition community iwd spotlight...</td>\n",
       "      <td>12</td>\n",
       "      <td>[(siah soh yun, PERSON)]</td>\n",
       "    </tr>\n",
       "    <tr>\n",
       "      <th>3</th>\n",
       "      <td>diversity education and networking iwd spotlig...</td>\n",
       "      <td>https://kr-asia.com/diversity-education-and-ne...</td>\n",
       "      <td>The Head of Tribe Accelerator started out as a...</td>\n",
       "      <td>2023-03-23T08:10:26+00:00</td>\n",
       "      <td>Q&amp;A</td>\n",
       "      <td>None</td>\n",
       "      <td>krasia</td>\n",
       "      <td>diversity education and networking iwd spotlig...</td>\n",
       "      <td>diversity education networking iwd spotlight r...</td>\n",
       "      <td>9</td>\n",
       "      <td>[]</td>\n",
       "    </tr>\n",
       "    <tr>\n",
       "      <th>4</th>\n",
       "      <td>indonesias goto 2022 loss widens to usd 26 bil...</td>\n",
       "      <td>https://kr-asia.com/indonesias-goto-2022-loss-...</td>\n",
       "      <td>Superapp operator shares now dwelling well bel...</td>\n",
       "      <td>2023-03-23T08:21:02+00:00</td>\n",
       "      <td>News</td>\n",
       "      <td>None</td>\n",
       "      <td>krasia</td>\n",
       "      <td>indonesia goto 2022 loss widen to usd 26 billion</td>\n",
       "      <td>indonesia goto 2022 loss widen usd 26 billion</td>\n",
       "      <td>9</td>\n",
       "      <td>[(indonesias goto, PERSON), (2022, DATE), (26 ...</td>\n",
       "    </tr>\n",
       "  </tbody>\n",
       "</table>\n",
       "</div>"
      ],
      "text/plain": [
       "                                               title  \\\n",
       "0  dont wait to be approached iwd spotlight with ...   \n",
       "1  intelligence indeed and feiliu tech named asia...   \n",
       "2  the importance of recognition and community iw...   \n",
       "3  diversity education and networking iwd spotlig...   \n",
       "4  indonesias goto 2022 loss widens to usd 26 bil...   \n",
       "\n",
       "                                                 url  \\\n",
       "0  https://kr-asia.com/dont-wait-to-be-approached...   \n",
       "1  https://kr-asia.com/intelligence-indeed-and-fe...   \n",
       "2  https://kr-asia.com/the-importance-of-recognit...   \n",
       "3  https://kr-asia.com/diversity-education-and-ne...   \n",
       "4  https://kr-asia.com/indonesias-goto-2022-loss-...   \n",
       "\n",
       "                                         description  \\\n",
       "0  The Head of Presales (APAC) at Provenir discus...   \n",
       "1  All the participating startups are Chinese com...   \n",
       "2  The Vice President of Technology Development a...   \n",
       "3  The Head of Tribe Accelerator started out as a...   \n",
       "4  Superapp operator shares now dwelling well bel...   \n",
       "\n",
       "                        date category keywords  source  \\\n",
       "0  2023-03-24T03:01:13+00:00      Q&A     None  krasia   \n",
       "1  2023-03-24T08:13:23+00:00   Events     None  krasia   \n",
       "2  2023-03-22T06:44:41+00:00      Q&A     None  krasia   \n",
       "3  2023-03-23T08:10:26+00:00      Q&A     None  krasia   \n",
       "4  2023-03-23T08:21:02+00:00     News     None  krasia   \n",
       "\n",
       "                                    title_lemmatized  \\\n",
       "0  dont wait to be approach iwd spotlight with me...   \n",
       "1  intelligence indeed and feiliu tech name asia ...   \n",
       "2  the importance of recognition and community iw...   \n",
       "3  diversity education and networking iwd spotlig...   \n",
       "4   indonesia goto 2022 loss widen to usd 26 billion   \n",
       "\n",
       "                                       title_cleaned  headline_word_count  \\\n",
       "0            dont wait approach iwd spotlight mei ye                   10   \n",
       "1  intelligence indeed feiliu tech name asia star...                   20   \n",
       "2  importance recognition community iwd spotlight...                   12   \n",
       "3  diversity education networking iwd spotlight r...                    9   \n",
       "4      indonesia goto 2022 loss widen usd 26 billion                    9   \n",
       "\n",
       "                                      named_entities  \n",
       "0                                       [(mei, ORG)]  \n",
       "1                     [(asia, LOC), (hangzhou, GPE)]  \n",
       "2                           [(siah soh yun, PERSON)]  \n",
       "3                                                 []  \n",
       "4  [(indonesias goto, PERSON), (2022, DATE), (26 ...  "
      ]
     },
     "execution_count": 305,
     "metadata": {},
     "output_type": "execute_result"
    }
   ],
   "source": [
    "news.head()"
   ]
  },
  {
   "cell_type": "code",
   "execution_count": null,
   "metadata": {},
   "outputs": [],
   "source": [
    "## Applying classifier\n",
    "news_matrix = vectorizer.transform(news['title_cleaned'])\n",
    "news_results = classifier.predict(news_matrix)\n",
    "news['rating'] = news_results\n",
    "news.head()"
   ]
  },
  {
   "cell_type": "markdown",
   "metadata": {},
   "source": [
    "## Description of final table"
   ]
  },
  {
   "cell_type": "code",
   "execution_count": null,
   "metadata": {},
   "outputs": [],
   "source": [
    "news.shape"
   ]
  },
  {
   "cell_type": "code",
   "execution_count": null,
   "metadata": {},
   "outputs": [],
   "source": [
    "# Convert the date column to a datetime object and set timezone information\n",
    "news['date'] = pd.to_datetime(news['date'])\n",
    "\n",
    "# Create the line chart\n",
    "fig, ax = plt.subplots()\n",
    "ax.plot(news['date'], news['rating'])\n",
    "\n",
    "# Format the x-axis labels\n",
    "date_form = DateFormatter(\"%Y-%m-%d\")\n",
    "ax.xaxis.set_major_formatter(date_form)\n",
    "plt.xticks(rotation=45)\n",
    "\n",
    "# Add axis labels and title\n",
    "plt.xlabel('Date')\n",
    "plt.ylabel('Rating')\n",
    "plt.title('Rating Over Time')\n",
    "\n",
    "# Show the chart\n",
    "plt.show()\n"
   ]
  },
  {
   "cell_type": "code",
   "execution_count": null,
   "metadata": {},
   "outputs": [],
   "source": [
    "news.groupby('source')['rating'].mean().plot(kind='bar',color=['red','green','blue'])\n"
   ]
  },
  {
   "cell_type": "code",
   "execution_count": null,
   "metadata": {},
   "outputs": [],
   "source": [
    "# Business function: Filter by keyword\n",
    "# Allow input for keyword and filter news article that has that word as a keyword\n",
    "\n",
    "def filter_keyword(keyword):\n",
    "    pass\n",
    "    #TODO"
   ]
  }
 ],
 "metadata": {
  "kernelspec": {
   "display_name": "Python 3 (ipykernel)",
   "language": "python",
   "name": "python3"
  },
  "language_info": {
   "codemirror_mode": {
    "name": "ipython",
    "version": 3
   },
   "file_extension": ".py",
   "mimetype": "text/x-python",
   "name": "python",
   "nbconvert_exporter": "python",
   "pygments_lexer": "ipython3",
   "version": "3.9.13"
  }
 },
 "nbformat": 4,
 "nbformat_minor": 2
}
